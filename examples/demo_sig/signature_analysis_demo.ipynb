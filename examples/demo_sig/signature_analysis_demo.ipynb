{
 "cells": [
  {
   "cell_type": "markdown",
   "id": "pharmaceutical-clearance",
   "metadata": {},
   "source": [
    "# SV signature analysis tutorial"
   ]
  },
  {
   "cell_type": "markdown",
   "id": "stainless-treasurer",
   "metadata": {},
   "source": [
    "## 0. Overview"
   ]
  },
  {
   "cell_type": "markdown",
   "id": "lyric-fourth",
   "metadata": {},
   "source": [
    "```python\n",
    "import viola\n",
    "pcawg_bedpe=viola.read_bedpe_multi('./resources/pcawg/')\n",
    "bed_fragile = viola.read_bed('./resources/annotation/fragile_site.hg19.bed')\n",
    "bedgraph_timing = viola.read_bed('./resources/annotation/replication_timing.bedgraph')\n",
    "pcawg_bedpe.annotate_bed(bed=bed_fragile, annotation='fragile', how='flag')\n",
    "pcawg_bedpe.annotate_bed(bed=bedgraph_timing, annotation='timing', how='value')\n",
    "pcawg_bedpe.calculate_info('(${timingleft} + ${timingright}) / 2', 'timing')\n",
    "feature_matrix = pcawg_bedpe.classify_manual_svtype(definitions='./resources/definitions/sv_class_definition.txt', return_data_frame=True)\n",
    "```"
   ]
  },
  {
   "cell_type": "markdown",
   "id": "regular-briefs",
   "metadata": {},
   "source": [
    "## 1. Import"
   ]
  },
  {
   "cell_type": "code",
   "execution_count": 1,
   "id": "opened-guinea",
   "metadata": {},
   "outputs": [],
   "source": [
    "import viola"
   ]
  },
  {
   "cell_type": "markdown",
   "id": "consecutive-warner",
   "metadata": {},
   "source": [
    "## 2. Reading BEDPE files into viola.MultiBedpe object"
   ]
  },
  {
   "cell_type": "code",
   "execution_count": 2,
   "id": "adjustable-density",
   "metadata": {},
   "outputs": [],
   "source": [
    "pcawg_bedpe=viola.read_bedpe_multi('./resources/pcawg/', exclude_empty_cases=True)"
   ]
  },
  {
   "cell_type": "markdown",
   "id": "metropolitan-milan",
   "metadata": {},
   "source": [
    "This code reads all BEDPE files in the `./resources/pcawg` directory into MultiBedpe class (See [MultiBedpe](https://dermasugita.github.io/ViolaDocs/docs/html/reference/api/viola.MultiBedpe.html)). Because the BEDPE files created by PCAWG have the `svclass` columns, we passed it to the `svtype_col_name` argument. Some BEDPE files did not have any SV records. This time we will exclude these by setting ``exclued_empty_cases=True``."
   ]
  },
  {
   "cell_type": "markdown",
   "id": "acknowledged-digit",
   "metadata": {},
   "source": [
    "## 3. Reading BED/BEDGRAPH files for annotation"
   ]
  },
  {
   "cell_type": "code",
   "execution_count": 3,
   "id": "controversial-asbestos",
   "metadata": {},
   "outputs": [],
   "source": [
    "bed_fragile = viola.read_bed('./resources/annotation/fragile_site.hg19.bed')\n",
    "bed_timing = viola.read_bed('./resources/annotation/replication_timing.bedgraph')"
   ]
  },
  {
   "cell_type": "markdown",
   "id": "advance-burton",
   "metadata": {},
   "source": [
    "Reading BED and BEDGRAPH files required for custom SV classification. At the moment we do not make a clear distinction between BED files and BEDGRAPH files. This is because only the first four columns of these files are used for annotation purposes in the first place.\n",
    "\n",
    "`fragile_site.hg19.bed` is a BED file specifying the known common fragile site (CFS) regions. <br>\n",
    "`replication_timing.bedgraph` is a BEDGRAPH file which records the replication timing for each genome coordinate divided into bins.\n",
    "\n",
    "These files were built according to the [PCAWG paper](https://www.nature.com/articles/s41586-019-1913-9#Sec20)."
   ]
  },
  {
   "cell_type": "markdown",
   "id": "proof-consciousness",
   "metadata": {},
   "source": [
    "## 4. Annotating SV"
   ]
  },
  {
   "cell_type": "code",
   "execution_count": 4,
   "id": "armed-hazard",
   "metadata": {},
   "outputs": [],
   "source": [
    "pcawg_bedpe.annotate_bed(bed=bed_fragile, annotation='fragile', how='flag')\n",
    "pcawg_bedpe.annotate_bed(bed=bed_timing, annotation='timing', how='value')"
   ]
  },
  {
   "cell_type": "markdown",
   "id": "concrete-contents",
   "metadata": {},
   "source": [
    "In this step, we annotate `pcawg_bedpe` with the Bed object we’ve just loaded. After annotation, new INFO – \"fragileleft\", \"fragileright\", \"timingleft\", and \"timingright\" – will be added. Because two breakends form a single SV, \"left\" and \"right\" suffix are added. When `how='flag'`, annotate True/False according wether each breakend is in the range in the Bed (4th column of the Bed is ignored). When `how='value'`, annotate the value of 4th column of Bed if the breakends hit."
   ]
  },
  {
   "cell_type": "markdown",
   "id": "similar-beijing",
   "metadata": {},
   "source": [
    "## 5. Get Average values of Replication Timing"
   ]
  },
  {
   "cell_type": "code",
   "execution_count": 5,
   "id": "insured-bridges",
   "metadata": {},
   "outputs": [],
   "source": [
    "pcawg_bedpe.calculate_info('(${timingleft} + ${timingright}) / 2', 'timing')"
   ]
  },
  {
   "cell_type": "markdown",
   "id": "married-study",
   "metadata": {},
   "source": [
    "To get representative values of replication timing for each SV breakpoints, we decided to take mean values of two breakends. This code adds new INFO named \"timing\" by calculating mean values of \"timingleft\" and \"timingright\"."
   ]
  },
  {
   "cell_type": "markdown",
   "id": "starting-shareware",
   "metadata": {},
   "source": [
    "## 6. Classify SV and Generate Feature Matrix"
   ]
  },
  {
   "cell_type": "code",
   "execution_count": 6,
   "id": "precise-control",
   "metadata": {},
   "outputs": [],
   "source": [
    "feature_matrix = pcawg_bedpe.classify_manual_svtype(definitions='./resources/definitions/sv_class_definition.txt', return_data_frame=True)"
   ]
  },
  {
   "cell_type": "markdown",
   "id": "level-baseball",
   "metadata": {},
   "source": [
    "Finally, we classified SV according to its type, size, fragile site, and replication timing. Classification criteria are written in `sv_class_definition.txt`. Syntax of this file is explained in the [Viola Documentation](https://dermasugita.github.io/ViolaDocs/docs/html/signature_analysis.html).\n",
    "\n",
    "If `return_data_frame=True`, counts of each custom SV class for each patients are returned as pandas.DataFrame.\n",
    "\n",
    "Now we successfully obtained feature matrix with custom SV classification!"
   ]
  }
 ],
 "metadata": {
  "kernelspec": {
   "display_name": "Python 3",
   "language": "python",
   "name": "python3"
  },
  "language_info": {
   "codemirror_mode": {
    "name": "ipython",
    "version": 3
   },
   "file_extension": ".py",
   "mimetype": "text/x-python",
   "name": "python",
   "nbconvert_exporter": "python",
   "pygments_lexer": "ipython3",
   "version": "3.8.7"
  }
 },
 "nbformat": 4,
 "nbformat_minor": 5
}
